{
 "cells": [
  {
   "cell_type": "markdown",
   "id": "92e6895a",
   "metadata": {},
   "source": [
    "## Preparing"
   ]
  },
  {
   "cell_type": "code",
   "execution_count": 1,
   "id": "6ec4172a",
   "metadata": {},
   "outputs": [],
   "source": [
    "import pandas as pd\n",
    "import numpy as np\n",
    "import matplotlib.pyplot as plt\n",
    "import seaborn as sns\n",
    "import warnings\n",
    "import gzip\n",
    "import torch\n",
    "import wandb\n",
    "import json\n",
    "import math\n",
    "\n",
    "plt.style.use('seaborn-dark')\n",
    "warnings.filterwarnings('ignore')\n",
    "\n",
    "from pathlib import Path\n",
    "from fastai.collab import *\n",
    "from fastai.tabular.all import *\n",
    "from fastai import *\n",
    "from tqdm.auto import tqdm\n",
    "from fastai.callback.wandb import WandbCallback\n",
    "from fastai.callback.tracker import SaveModelCallback\n",
    "from ipywidgets import interact, interactive, fixed"
   ]
  },
  {
   "cell_type": "code",
   "execution_count": 2,
   "id": "6e3a7a45",
   "metadata": {},
   "outputs": [
    {
     "data": {
      "text/html": [
       "<div>\n",
       "<style scoped>\n",
       "    .dataframe tbody tr th:only-of-type {\n",
       "        vertical-align: middle;\n",
       "    }\n",
       "\n",
       "    .dataframe tbody tr th {\n",
       "        vertical-align: top;\n",
       "    }\n",
       "\n",
       "    .dataframe thead th {\n",
       "        text-align: right;\n",
       "    }\n",
       "</style>\n",
       "<table border=\"1\" class=\"dataframe\">\n",
       "  <thead>\n",
       "    <tr style=\"text-align: right;\">\n",
       "      <th></th>\n",
       "      <th>user_id</th>\n",
       "      <th>item_id</th>\n",
       "      <th>item_name</th>\n",
       "      <th>playtime_forever</th>\n",
       "    </tr>\n",
       "  </thead>\n",
       "  <tbody>\n",
       "    <tr>\n",
       "      <th>0</th>\n",
       "      <td>76561197970982479</td>\n",
       "      <td>10</td>\n",
       "      <td>Counter-Strike</td>\n",
       "      <td>6</td>\n",
       "    </tr>\n",
       "    <tr>\n",
       "      <th>1</th>\n",
       "      <td>76561197970982479</td>\n",
       "      <td>20</td>\n",
       "      <td>Team Fortress Classic</td>\n",
       "      <td>0</td>\n",
       "    </tr>\n",
       "    <tr>\n",
       "      <th>2</th>\n",
       "      <td>76561197970982479</td>\n",
       "      <td>30</td>\n",
       "      <td>Day of Defeat</td>\n",
       "      <td>7</td>\n",
       "    </tr>\n",
       "    <tr>\n",
       "      <th>3</th>\n",
       "      <td>76561197970982479</td>\n",
       "      <td>40</td>\n",
       "      <td>Deathmatch Classic</td>\n",
       "      <td>0</td>\n",
       "    </tr>\n",
       "    <tr>\n",
       "      <th>4</th>\n",
       "      <td>76561197970982479</td>\n",
       "      <td>50</td>\n",
       "      <td>Half-Life: Opposing Force</td>\n",
       "      <td>0</td>\n",
       "    </tr>\n",
       "    <tr>\n",
       "      <th>...</th>\n",
       "      <td>...</td>\n",
       "      <td>...</td>\n",
       "      <td>...</td>\n",
       "      <td>...</td>\n",
       "    </tr>\n",
       "    <tr>\n",
       "      <th>5153204</th>\n",
       "      <td>76561198329548331</td>\n",
       "      <td>346330</td>\n",
       "      <td>BrainBread 2</td>\n",
       "      <td>0</td>\n",
       "    </tr>\n",
       "    <tr>\n",
       "      <th>5153205</th>\n",
       "      <td>76561198329548331</td>\n",
       "      <td>373330</td>\n",
       "      <td>All Is Dust</td>\n",
       "      <td>0</td>\n",
       "    </tr>\n",
       "    <tr>\n",
       "      <th>5153206</th>\n",
       "      <td>76561198329548331</td>\n",
       "      <td>388490</td>\n",
       "      <td>One Way To Die: Steam Edition</td>\n",
       "      <td>3</td>\n",
       "    </tr>\n",
       "    <tr>\n",
       "      <th>5153207</th>\n",
       "      <td>76561198329548331</td>\n",
       "      <td>521570</td>\n",
       "      <td>You Have 10 Seconds 2</td>\n",
       "      <td>4</td>\n",
       "    </tr>\n",
       "    <tr>\n",
       "      <th>5153208</th>\n",
       "      <td>76561198329548331</td>\n",
       "      <td>519140</td>\n",
       "      <td>Minds Eyes</td>\n",
       "      <td>3</td>\n",
       "    </tr>\n",
       "  </tbody>\n",
       "</table>\n",
       "<p>5153209 rows × 4 columns</p>\n",
       "</div>"
      ],
      "text/plain": [
       "                   user_id  item_id                      item_name  \\\n",
       "0        76561197970982479       10                 Counter-Strike   \n",
       "1        76561197970982479       20          Team Fortress Classic   \n",
       "2        76561197970982479       30                  Day of Defeat   \n",
       "3        76561197970982479       40             Deathmatch Classic   \n",
       "4        76561197970982479       50      Half-Life: Opposing Force   \n",
       "...                    ...      ...                            ...   \n",
       "5153204  76561198329548331   346330                   BrainBread 2   \n",
       "5153205  76561198329548331   373330                    All Is Dust   \n",
       "5153206  76561198329548331   388490  One Way To Die: Steam Edition   \n",
       "5153207  76561198329548331   521570          You Have 10 Seconds 2   \n",
       "5153208  76561198329548331   519140                     Minds Eyes   \n",
       "\n",
       "         playtime_forever  \n",
       "0                       6  \n",
       "1                       0  \n",
       "2                       7  \n",
       "3                       0  \n",
       "4                       0  \n",
       "...                   ...  \n",
       "5153204                 0  \n",
       "5153205                 0  \n",
       "5153206                 3  \n",
       "5153207                 4  \n",
       "5153208                 3  \n",
       "\n",
       "[5153209 rows x 4 columns]"
      ]
     },
     "execution_count": 2,
     "metadata": {},
     "output_type": "execute_result"
    }
   ],
   "source": [
    "df = pd.read_csv('Complete_data_Form.csv')\n",
    "df= df.drop(['steam_id', 'user_url', 'items', 'playtime_2weeks', 'items_count'] ,axis = 1)\n",
    "df"
   ]
  },
  {
   "cell_type": "code",
   "execution_count": 4,
   "id": "d4aeac82",
   "metadata": {},
   "outputs": [
    {
     "data": {
      "text/plain": [
       "user_id             0\n",
       "item_id             0\n",
       "item_name           0\n",
       "playtime_forever    0\n",
       "dtype: int64"
      ]
     },
     "execution_count": 4,
     "metadata": {},
     "output_type": "execute_result"
    }
   ],
   "source": [
    "df.isnull().sum()"
   ]
  },
  {
   "cell_type": "markdown",
   "id": "37a833f7",
   "metadata": {},
   "source": [
    "## Data Cleansing"
   ]
  },
  {
   "cell_type": "code",
   "execution_count": 3,
   "id": "6187ab34",
   "metadata": {},
   "outputs": [
    {
     "data": {
      "text/html": [
       "<div>\n",
       "<style scoped>\n",
       "    .dataframe tbody tr th:only-of-type {\n",
       "        vertical-align: middle;\n",
       "    }\n",
       "\n",
       "    .dataframe tbody tr th {\n",
       "        vertical-align: top;\n",
       "    }\n",
       "\n",
       "    .dataframe thead th {\n",
       "        text-align: right;\n",
       "    }\n",
       "</style>\n",
       "<table border=\"1\" class=\"dataframe\">\n",
       "  <thead>\n",
       "    <tr style=\"text-align: right;\">\n",
       "      <th></th>\n",
       "      <th>10</th>\n",
       "      <th>20</th>\n",
       "      <th>30</th>\n",
       "      <th>40</th>\n",
       "      <th>50</th>\n",
       "      <th>60</th>\n",
       "      <th>70</th>\n",
       "      <th>80</th>\n",
       "      <th>100</th>\n",
       "      <th>130</th>\n",
       "      <th>...</th>\n",
       "      <th>527520</th>\n",
       "      <th>527570</th>\n",
       "      <th>527810</th>\n",
       "      <th>527890</th>\n",
       "      <th>527900</th>\n",
       "      <th>528580</th>\n",
       "      <th>528660</th>\n",
       "      <th>529670</th>\n",
       "      <th>529820</th>\n",
       "      <th>530720</th>\n",
       "    </tr>\n",
       "  </thead>\n",
       "  <tbody>\n",
       "    <tr>\n",
       "      <th>Min</th>\n",
       "      <td>0.0</td>\n",
       "      <td>0.0</td>\n",
       "      <td>0.0</td>\n",
       "      <td>0.0</td>\n",
       "      <td>0.0</td>\n",
       "      <td>0.0</td>\n",
       "      <td>0.0</td>\n",
       "      <td>0.000</td>\n",
       "      <td>0.0</td>\n",
       "      <td>0.00</td>\n",
       "      <td>...</td>\n",
       "      <td>0.0</td>\n",
       "      <td>0.0</td>\n",
       "      <td>0.0</td>\n",
       "      <td>1.0</td>\n",
       "      <td>44.0</td>\n",
       "      <td>0.0</td>\n",
       "      <td>0.0</td>\n",
       "      <td>0.0</td>\n",
       "      <td>0.0</td>\n",
       "      <td>0.0</td>\n",
       "    </tr>\n",
       "    <tr>\n",
       "      <th>Q1</th>\n",
       "      <td>16.0</td>\n",
       "      <td>7.0</td>\n",
       "      <td>0.0</td>\n",
       "      <td>0.0</td>\n",
       "      <td>0.0</td>\n",
       "      <td>0.0</td>\n",
       "      <td>0.0</td>\n",
       "      <td>0.000</td>\n",
       "      <td>0.0</td>\n",
       "      <td>0.00</td>\n",
       "      <td>...</td>\n",
       "      <td>NaN</td>\n",
       "      <td>NaN</td>\n",
       "      <td>NaN</td>\n",
       "      <td>NaN</td>\n",
       "      <td>NaN</td>\n",
       "      <td>NaN</td>\n",
       "      <td>NaN</td>\n",
       "      <td>NaN</td>\n",
       "      <td>NaN</td>\n",
       "      <td>NaN</td>\n",
       "    </tr>\n",
       "    <tr>\n",
       "      <th>Q3</th>\n",
       "      <td>773.0</td>\n",
       "      <td>1283.0</td>\n",
       "      <td>64.0</td>\n",
       "      <td>1.0</td>\n",
       "      <td>24.0</td>\n",
       "      <td>0.0</td>\n",
       "      <td>0.0</td>\n",
       "      <td>12.250</td>\n",
       "      <td>71.0</td>\n",
       "      <td>296.50</td>\n",
       "      <td>...</td>\n",
       "      <td>NaN</td>\n",
       "      <td>NaN</td>\n",
       "      <td>NaN</td>\n",
       "      <td>NaN</td>\n",
       "      <td>NaN</td>\n",
       "      <td>NaN</td>\n",
       "      <td>NaN</td>\n",
       "      <td>NaN</td>\n",
       "      <td>NaN</td>\n",
       "      <td>NaN</td>\n",
       "    </tr>\n",
       "    <tr>\n",
       "      <th>Max</th>\n",
       "      <td>356217.0</td>\n",
       "      <td>141467.0</td>\n",
       "      <td>146484.0</td>\n",
       "      <td>73975.0</td>\n",
       "      <td>73970.0</td>\n",
       "      <td>73965.0</td>\n",
       "      <td>76899.0</td>\n",
       "      <td>202226.000</td>\n",
       "      <td>5912.0</td>\n",
       "      <td>73956.00</td>\n",
       "      <td>...</td>\n",
       "      <td>0.0</td>\n",
       "      <td>2.0</td>\n",
       "      <td>2.0</td>\n",
       "      <td>1.0</td>\n",
       "      <td>44.0</td>\n",
       "      <td>0.0</td>\n",
       "      <td>182.0</td>\n",
       "      <td>0.0</td>\n",
       "      <td>0.0</td>\n",
       "      <td>0.0</td>\n",
       "    </tr>\n",
       "    <tr>\n",
       "      <th>Lower</th>\n",
       "      <td>-1119.5</td>\n",
       "      <td>-1907.0</td>\n",
       "      <td>-96.0</td>\n",
       "      <td>-1.5</td>\n",
       "      <td>-36.0</td>\n",
       "      <td>0.0</td>\n",
       "      <td>0.0</td>\n",
       "      <td>-18.375</td>\n",
       "      <td>-106.5</td>\n",
       "      <td>-444.75</td>\n",
       "      <td>...</td>\n",
       "      <td>NaN</td>\n",
       "      <td>NaN</td>\n",
       "      <td>NaN</td>\n",
       "      <td>NaN</td>\n",
       "      <td>NaN</td>\n",
       "      <td>NaN</td>\n",
       "      <td>NaN</td>\n",
       "      <td>NaN</td>\n",
       "      <td>NaN</td>\n",
       "      <td>NaN</td>\n",
       "    </tr>\n",
       "    <tr>\n",
       "      <th>Upper</th>\n",
       "      <td>1908.5</td>\n",
       "      <td>3197.0</td>\n",
       "      <td>160.0</td>\n",
       "      <td>2.5</td>\n",
       "      <td>60.0</td>\n",
       "      <td>0.0</td>\n",
       "      <td>0.0</td>\n",
       "      <td>30.625</td>\n",
       "      <td>177.5</td>\n",
       "      <td>741.25</td>\n",
       "      <td>...</td>\n",
       "      <td>NaN</td>\n",
       "      <td>NaN</td>\n",
       "      <td>NaN</td>\n",
       "      <td>NaN</td>\n",
       "      <td>NaN</td>\n",
       "      <td>NaN</td>\n",
       "      <td>NaN</td>\n",
       "      <td>NaN</td>\n",
       "      <td>NaN</td>\n",
       "      <td>NaN</td>\n",
       "    </tr>\n",
       "  </tbody>\n",
       "</table>\n",
       "<p>6 rows × 10978 columns</p>\n",
       "</div>"
      ],
      "text/plain": [
       "         10        20        30       40       50       60       70      \\\n",
       "Min         0.0       0.0       0.0      0.0      0.0      0.0      0.0   \n",
       "Q1         16.0       7.0       0.0      0.0      0.0      0.0      0.0   \n",
       "Q3        773.0    1283.0      64.0      1.0     24.0      0.0      0.0   \n",
       "Max    356217.0  141467.0  146484.0  73975.0  73970.0  73965.0  76899.0   \n",
       "Lower   -1119.5   -1907.0     -96.0     -1.5    -36.0      0.0      0.0   \n",
       "Upper    1908.5    3197.0     160.0      2.5     60.0      0.0      0.0   \n",
       "\n",
       "           80      100       130     ...  527520  527570  527810  527890  \\\n",
       "Min         0.000     0.0      0.00  ...     0.0     0.0     0.0     1.0   \n",
       "Q1          0.000     0.0      0.00  ...     NaN     NaN     NaN     NaN   \n",
       "Q3         12.250    71.0    296.50  ...     NaN     NaN     NaN     NaN   \n",
       "Max    202226.000  5912.0  73956.00  ...     0.0     2.0     2.0     1.0   \n",
       "Lower     -18.375  -106.5   -444.75  ...     NaN     NaN     NaN     NaN   \n",
       "Upper      30.625   177.5    741.25  ...     NaN     NaN     NaN     NaN   \n",
       "\n",
       "       527900  528580  528660  529670  529820  530720  \n",
       "Min      44.0     0.0     0.0     0.0     0.0     0.0  \n",
       "Q1        NaN     NaN     NaN     NaN     NaN     NaN  \n",
       "Q3        NaN     NaN     NaN     NaN     NaN     NaN  \n",
       "Max      44.0     0.0   182.0     0.0     0.0     0.0  \n",
       "Lower     NaN     NaN     NaN     NaN     NaN     NaN  \n",
       "Upper     NaN     NaN     NaN     NaN     NaN     NaN  \n",
       "\n",
       "[6 rows x 10978 columns]"
      ]
     },
     "execution_count": 3,
     "metadata": {},
     "output_type": "execute_result"
    }
   ],
   "source": [
    "# Create outlier_check Dataframe consist of Min, Max, Quartile 1 and 3, IQR, ค่าสูงสุดที่ไม่เป็นค่าผิดปกติ, ค่าต่ำสุดที่ไม่เป็นค่าผิดปกติ ของเกมแต่ละเกม\n",
    " \n",
    "rating_df_min = df\n",
    "\n",
    "Min = rating_df_min.groupby(['item_id'])['playtime_forever'].min()\n",
    "q1 = rating_df_min.groupby(['item_id'])['playtime_forever'].quantile(q=[0.25]).values\n",
    "q3 = rating_df_min.groupby(['item_id'])['playtime_forever'].quantile(q=[0.75]).values\n",
    "Max = rating_df_min.groupby(['item_id'])['playtime_forever'].max()\n",
    "iqr = q3 - q1\n",
    "upper_out = q3 + (1.5 * iqr) # ค่าสูงสุดที่ไม่เป็นค่าผิดปกติ,\n",
    "lower_out = q1 - (1.5 * iqr) # ค่าต่ำสุดที่ไม่เป็นค่าผิดปกติ\n",
    "\n",
    "outlier_check = pd.DataFrame([Min,q1,q3,Max,lower_out, upper_out], index = ['Min','Q1','Q3','Max','Lower', 'Upper'], columns = np.sort(rating_df_min['item_id'].unique()))\n",
    "outlier_check"
   ]
  },
  {
   "cell_type": "code",
   "execution_count": 4,
   "id": "b7371753",
   "metadata": {},
   "outputs": [
    {
     "data": {
      "text/html": [
       "<div>\n",
       "<style scoped>\n",
       "    .dataframe tbody tr th:only-of-type {\n",
       "        vertical-align: middle;\n",
       "    }\n",
       "\n",
       "    .dataframe tbody tr th {\n",
       "        vertical-align: top;\n",
       "    }\n",
       "\n",
       "    .dataframe thead th {\n",
       "        text-align: right;\n",
       "    }\n",
       "</style>\n",
       "<table border=\"1\" class=\"dataframe\">\n",
       "  <thead>\n",
       "    <tr style=\"text-align: right;\">\n",
       "      <th></th>\n",
       "      <th>user_id</th>\n",
       "      <th>item_id</th>\n",
       "      <th>item_name</th>\n",
       "      <th>playtime</th>\n",
       "    </tr>\n",
       "  </thead>\n",
       "  <tbody>\n",
       "    <tr>\n",
       "      <th>0</th>\n",
       "      <td>76561197970982479</td>\n",
       "      <td>10</td>\n",
       "      <td>Counter-Strike</td>\n",
       "      <td>6.0</td>\n",
       "    </tr>\n",
       "    <tr>\n",
       "      <th>1</th>\n",
       "      <td>76561197970982479</td>\n",
       "      <td>20</td>\n",
       "      <td>Team Fortress Classic</td>\n",
       "      <td>0.0</td>\n",
       "    </tr>\n",
       "    <tr>\n",
       "      <th>2</th>\n",
       "      <td>76561197970982479</td>\n",
       "      <td>30</td>\n",
       "      <td>Day of Defeat</td>\n",
       "      <td>7.0</td>\n",
       "    </tr>\n",
       "    <tr>\n",
       "      <th>3</th>\n",
       "      <td>76561197970982479</td>\n",
       "      <td>40</td>\n",
       "      <td>Deathmatch Classic</td>\n",
       "      <td>0.0</td>\n",
       "    </tr>\n",
       "    <tr>\n",
       "      <th>4</th>\n",
       "      <td>76561197970982479</td>\n",
       "      <td>50</td>\n",
       "      <td>Half-Life: Opposing Force</td>\n",
       "      <td>0.0</td>\n",
       "    </tr>\n",
       "    <tr>\n",
       "      <th>...</th>\n",
       "      <td>...</td>\n",
       "      <td>...</td>\n",
       "      <td>...</td>\n",
       "      <td>...</td>\n",
       "    </tr>\n",
       "    <tr>\n",
       "      <th>5153204</th>\n",
       "      <td>76561198329548331</td>\n",
       "      <td>346330</td>\n",
       "      <td>BrainBread 2</td>\n",
       "      <td>0.0</td>\n",
       "    </tr>\n",
       "    <tr>\n",
       "      <th>5153205</th>\n",
       "      <td>76561198329548331</td>\n",
       "      <td>373330</td>\n",
       "      <td>All Is Dust</td>\n",
       "      <td>0.0</td>\n",
       "    </tr>\n",
       "    <tr>\n",
       "      <th>5153206</th>\n",
       "      <td>76561198329548331</td>\n",
       "      <td>388490</td>\n",
       "      <td>One Way To Die: Steam Edition</td>\n",
       "      <td>3.0</td>\n",
       "    </tr>\n",
       "    <tr>\n",
       "      <th>5153207</th>\n",
       "      <td>76561198329548331</td>\n",
       "      <td>521570</td>\n",
       "      <td>You Have 10 Seconds 2</td>\n",
       "      <td>4.0</td>\n",
       "    </tr>\n",
       "    <tr>\n",
       "      <th>5153208</th>\n",
       "      <td>76561198329548331</td>\n",
       "      <td>519140</td>\n",
       "      <td>Minds Eyes</td>\n",
       "      <td>3.0</td>\n",
       "    </tr>\n",
       "  </tbody>\n",
       "</table>\n",
       "<p>5153209 rows × 4 columns</p>\n",
       "</div>"
      ],
      "text/plain": [
       "                   user_id  item_id                      item_name  playtime\n",
       "0        76561197970982479       10                 Counter-Strike       6.0\n",
       "1        76561197970982479       20          Team Fortress Classic       0.0\n",
       "2        76561197970982479       30                  Day of Defeat       7.0\n",
       "3        76561197970982479       40             Deathmatch Classic       0.0\n",
       "4        76561197970982479       50      Half-Life: Opposing Force       0.0\n",
       "...                    ...      ...                            ...       ...\n",
       "5153204  76561198329548331   346330                   BrainBread 2       0.0\n",
       "5153205  76561198329548331   373330                    All Is Dust       0.0\n",
       "5153206  76561198329548331   388490  One Way To Die: Steam Edition       3.0\n",
       "5153207  76561198329548331   521570          You Have 10 Seconds 2       4.0\n",
       "5153208  76561198329548331   519140                     Minds Eyes       3.0\n",
       "\n",
       "[5153209 rows x 4 columns]"
      ]
     },
     "execution_count": 4,
     "metadata": {},
     "output_type": "execute_result"
    }
   ],
   "source": [
    "def change_max(row): # Change Max vavlue that is outlier to upper_out  \n",
    "    if row['playtime_forever'] > outlier_check.loc['Upper',row['item_id']]:\n",
    "        return outlier_check.loc['Upper',row['item_id']]\n",
    "    return row['playtime_forever']\n",
    "\n",
    "rating_df_min['playtime'] =rating_df_min.apply(change_max , axis = 1)\n",
    "rating_df_min = rating_df_min.drop(['playtime_forever'], axis = 1)\n",
    "rating_df_min"
   ]
  },
  {
   "cell_type": "code",
   "execution_count": 10,
   "id": "4d17d19b",
   "metadata": {
    "scrolled": true
   },
   "outputs": [
    {
     "data": {
      "text/html": [
       "<div>\n",
       "<style scoped>\n",
       "    .dataframe tbody tr th:only-of-type {\n",
       "        vertical-align: middle;\n",
       "    }\n",
       "\n",
       "    .dataframe tbody tr th {\n",
       "        vertical-align: top;\n",
       "    }\n",
       "\n",
       "    .dataframe thead th {\n",
       "        text-align: right;\n",
       "    }\n",
       "</style>\n",
       "<table border=\"1\" class=\"dataframe\">\n",
       "  <thead>\n",
       "    <tr style=\"text-align: right;\">\n",
       "      <th></th>\n",
       "      <th>10</th>\n",
       "      <th>20</th>\n",
       "      <th>30</th>\n",
       "      <th>40</th>\n",
       "      <th>50</th>\n",
       "      <th>60</th>\n",
       "      <th>70</th>\n",
       "      <th>80</th>\n",
       "      <th>100</th>\n",
       "      <th>130</th>\n",
       "      <th>...</th>\n",
       "      <th>527520</th>\n",
       "      <th>527570</th>\n",
       "      <th>527810</th>\n",
       "      <th>527890</th>\n",
       "      <th>527900</th>\n",
       "      <th>528580</th>\n",
       "      <th>528660</th>\n",
       "      <th>529670</th>\n",
       "      <th>529820</th>\n",
       "      <th>530720</th>\n",
       "    </tr>\n",
       "  </thead>\n",
       "  <tbody>\n",
       "    <tr>\n",
       "      <th>Min</th>\n",
       "      <td>0.000000</td>\n",
       "      <td>0.000000</td>\n",
       "      <td>0.000000</td>\n",
       "      <td>0.000000</td>\n",
       "      <td>0.000000</td>\n",
       "      <td>0.0</td>\n",
       "      <td>0.0</td>\n",
       "      <td>0.000000</td>\n",
       "      <td>0.000000</td>\n",
       "      <td>0.000000</td>\n",
       "      <td>...</td>\n",
       "      <td>0.0</td>\n",
       "      <td>0.0</td>\n",
       "      <td>0.000</td>\n",
       "      <td>1.0</td>\n",
       "      <td>44.0</td>\n",
       "      <td>0.0</td>\n",
       "      <td>0.0</td>\n",
       "      <td>0.0</td>\n",
       "      <td>0.0</td>\n",
       "      <td>0.0</td>\n",
       "    </tr>\n",
       "    <tr>\n",
       "      <th>Q1</th>\n",
       "      <td>16.000000</td>\n",
       "      <td>7.000000</td>\n",
       "      <td>0.000000</td>\n",
       "      <td>0.000000</td>\n",
       "      <td>0.000000</td>\n",
       "      <td>0.0</td>\n",
       "      <td>0.0</td>\n",
       "      <td>0.000000</td>\n",
       "      <td>0.000000</td>\n",
       "      <td>0.000000</td>\n",
       "      <td>...</td>\n",
       "      <td>NaN</td>\n",
       "      <td>NaN</td>\n",
       "      <td>NaN</td>\n",
       "      <td>NaN</td>\n",
       "      <td>NaN</td>\n",
       "      <td>NaN</td>\n",
       "      <td>NaN</td>\n",
       "      <td>NaN</td>\n",
       "      <td>NaN</td>\n",
       "      <td>NaN</td>\n",
       "    </tr>\n",
       "    <tr>\n",
       "      <th>Q3</th>\n",
       "      <td>773.000000</td>\n",
       "      <td>1283.000000</td>\n",
       "      <td>64.000000</td>\n",
       "      <td>1.000000</td>\n",
       "      <td>24.000000</td>\n",
       "      <td>0.0</td>\n",
       "      <td>0.0</td>\n",
       "      <td>12.250000</td>\n",
       "      <td>71.000000</td>\n",
       "      <td>296.500000</td>\n",
       "      <td>...</td>\n",
       "      <td>NaN</td>\n",
       "      <td>NaN</td>\n",
       "      <td>NaN</td>\n",
       "      <td>NaN</td>\n",
       "      <td>NaN</td>\n",
       "      <td>NaN</td>\n",
       "      <td>NaN</td>\n",
       "      <td>NaN</td>\n",
       "      <td>NaN</td>\n",
       "      <td>NaN</td>\n",
       "    </tr>\n",
       "    <tr>\n",
       "      <th>Max</th>\n",
       "      <td>356217.000000</td>\n",
       "      <td>141467.000000</td>\n",
       "      <td>146484.000000</td>\n",
       "      <td>73975.000000</td>\n",
       "      <td>73970.000000</td>\n",
       "      <td>73965.0</td>\n",
       "      <td>76899.0</td>\n",
       "      <td>202226.000000</td>\n",
       "      <td>5912.000000</td>\n",
       "      <td>73956.000000</td>\n",
       "      <td>...</td>\n",
       "      <td>0.0</td>\n",
       "      <td>2.0</td>\n",
       "      <td>2.000</td>\n",
       "      <td>1.0</td>\n",
       "      <td>44.0</td>\n",
       "      <td>0.0</td>\n",
       "      <td>182.0</td>\n",
       "      <td>0.0</td>\n",
       "      <td>0.0</td>\n",
       "      <td>0.0</td>\n",
       "    </tr>\n",
       "    <tr>\n",
       "      <th>Lower</th>\n",
       "      <td>-1119.500000</td>\n",
       "      <td>-1907.000000</td>\n",
       "      <td>-96.000000</td>\n",
       "      <td>-1.500000</td>\n",
       "      <td>-36.000000</td>\n",
       "      <td>0.0</td>\n",
       "      <td>0.0</td>\n",
       "      <td>-18.375000</td>\n",
       "      <td>-106.500000</td>\n",
       "      <td>-444.750000</td>\n",
       "      <td>...</td>\n",
       "      <td>NaN</td>\n",
       "      <td>NaN</td>\n",
       "      <td>NaN</td>\n",
       "      <td>NaN</td>\n",
       "      <td>NaN</td>\n",
       "      <td>NaN</td>\n",
       "      <td>NaN</td>\n",
       "      <td>NaN</td>\n",
       "      <td>NaN</td>\n",
       "      <td>NaN</td>\n",
       "    </tr>\n",
       "    <tr>\n",
       "      <th>Upper</th>\n",
       "      <td>1908.500000</td>\n",
       "      <td>3197.000000</td>\n",
       "      <td>160.000000</td>\n",
       "      <td>2.500000</td>\n",
       "      <td>60.000000</td>\n",
       "      <td>0.0</td>\n",
       "      <td>0.0</td>\n",
       "      <td>30.625000</td>\n",
       "      <td>177.500000</td>\n",
       "      <td>741.250000</td>\n",
       "      <td>...</td>\n",
       "      <td>NaN</td>\n",
       "      <td>NaN</td>\n",
       "      <td>NaN</td>\n",
       "      <td>NaN</td>\n",
       "      <td>NaN</td>\n",
       "      <td>NaN</td>\n",
       "      <td>NaN</td>\n",
       "      <td>NaN</td>\n",
       "      <td>NaN</td>\n",
       "      <td>NaN</td>\n",
       "    </tr>\n",
       "    <tr>\n",
       "      <th>Mean</th>\n",
       "      <td>267.460914</td>\n",
       "      <td>49.324913</td>\n",
       "      <td>19.708225</td>\n",
       "      <td>0.468387</td>\n",
       "      <td>14.125616</td>\n",
       "      <td>0.0</td>\n",
       "      <td>0.0</td>\n",
       "      <td>8.783178</td>\n",
       "      <td>14.437853</td>\n",
       "      <td>42.896632</td>\n",
       "      <td>...</td>\n",
       "      <td>0.0</td>\n",
       "      <td>1.0</td>\n",
       "      <td>0.125</td>\n",
       "      <td>1.0</td>\n",
       "      <td>44.0</td>\n",
       "      <td>0.0</td>\n",
       "      <td>91.0</td>\n",
       "      <td>0.0</td>\n",
       "      <td>0.0</td>\n",
       "      <td>0.0</td>\n",
       "    </tr>\n",
       "    <tr>\n",
       "      <th>Max_scaled</th>\n",
       "      <td>1908.500000</td>\n",
       "      <td>3197.000000</td>\n",
       "      <td>160.000000</td>\n",
       "      <td>2.500000</td>\n",
       "      <td>60.000000</td>\n",
       "      <td>0.0</td>\n",
       "      <td>0.0</td>\n",
       "      <td>30.625000</td>\n",
       "      <td>177.500000</td>\n",
       "      <td>741.250000</td>\n",
       "      <td>...</td>\n",
       "      <td>0.0</td>\n",
       "      <td>2.0</td>\n",
       "      <td>2.000</td>\n",
       "      <td>1.0</td>\n",
       "      <td>44.0</td>\n",
       "      <td>0.0</td>\n",
       "      <td>182.0</td>\n",
       "      <td>0.0</td>\n",
       "      <td>0.0</td>\n",
       "      <td>0.0</td>\n",
       "    </tr>\n",
       "    <tr>\n",
       "      <th>Min_scaled</th>\n",
       "      <td>0.000000</td>\n",
       "      <td>0.000000</td>\n",
       "      <td>0.000000</td>\n",
       "      <td>0.000000</td>\n",
       "      <td>0.000000</td>\n",
       "      <td>0.0</td>\n",
       "      <td>0.0</td>\n",
       "      <td>0.000000</td>\n",
       "      <td>0.000000</td>\n",
       "      <td>0.000000</td>\n",
       "      <td>...</td>\n",
       "      <td>0.0</td>\n",
       "      <td>0.0</td>\n",
       "      <td>0.000</td>\n",
       "      <td>1.0</td>\n",
       "      <td>44.0</td>\n",
       "      <td>0.0</td>\n",
       "      <td>0.0</td>\n",
       "      <td>0.0</td>\n",
       "      <td>0.0</td>\n",
       "      <td>0.0</td>\n",
       "    </tr>\n",
       "  </tbody>\n",
       "</table>\n",
       "<p>9 rows × 10978 columns</p>\n",
       "</div>"
      ],
      "text/plain": [
       "                   10             20             30            40      \\\n",
       "Min              0.000000       0.000000       0.000000      0.000000   \n",
       "Q1              16.000000       7.000000       0.000000      0.000000   \n",
       "Q3             773.000000    1283.000000      64.000000      1.000000   \n",
       "Max         356217.000000  141467.000000  146484.000000  73975.000000   \n",
       "Lower        -1119.500000   -1907.000000     -96.000000     -1.500000   \n",
       "Upper         1908.500000    3197.000000     160.000000      2.500000   \n",
       "Mean           267.460914      49.324913      19.708225      0.468387   \n",
       "Max_scaled    1908.500000    3197.000000     160.000000      2.500000   \n",
       "Min_scaled       0.000000       0.000000       0.000000      0.000000   \n",
       "\n",
       "                  50       60       70             80           100     \\\n",
       "Min             0.000000      0.0      0.0       0.000000     0.000000   \n",
       "Q1              0.000000      0.0      0.0       0.000000     0.000000   \n",
       "Q3             24.000000      0.0      0.0      12.250000    71.000000   \n",
       "Max         73970.000000  73965.0  76899.0  202226.000000  5912.000000   \n",
       "Lower         -36.000000      0.0      0.0     -18.375000  -106.500000   \n",
       "Upper          60.000000      0.0      0.0      30.625000   177.500000   \n",
       "Mean           14.125616      0.0      0.0       8.783178    14.437853   \n",
       "Max_scaled     60.000000      0.0      0.0      30.625000   177.500000   \n",
       "Min_scaled      0.000000      0.0      0.0       0.000000     0.000000   \n",
       "\n",
       "                  130     ...  527520  527570  527810  527890  527900  528580  \\\n",
       "Min             0.000000  ...     0.0     0.0   0.000     1.0    44.0     0.0   \n",
       "Q1              0.000000  ...     NaN     NaN     NaN     NaN     NaN     NaN   \n",
       "Q3            296.500000  ...     NaN     NaN     NaN     NaN     NaN     NaN   \n",
       "Max         73956.000000  ...     0.0     2.0   2.000     1.0    44.0     0.0   \n",
       "Lower        -444.750000  ...     NaN     NaN     NaN     NaN     NaN     NaN   \n",
       "Upper         741.250000  ...     NaN     NaN     NaN     NaN     NaN     NaN   \n",
       "Mean           42.896632  ...     0.0     1.0   0.125     1.0    44.0     0.0   \n",
       "Max_scaled    741.250000  ...     0.0     2.0   2.000     1.0    44.0     0.0   \n",
       "Min_scaled      0.000000  ...     0.0     0.0   0.000     1.0    44.0     0.0   \n",
       "\n",
       "            528660  529670  529820  530720  \n",
       "Min            0.0     0.0     0.0     0.0  \n",
       "Q1             NaN     NaN     NaN     NaN  \n",
       "Q3             NaN     NaN     NaN     NaN  \n",
       "Max          182.0     0.0     0.0     0.0  \n",
       "Lower          NaN     NaN     NaN     NaN  \n",
       "Upper          NaN     NaN     NaN     NaN  \n",
       "Mean          91.0     0.0     0.0     0.0  \n",
       "Max_scaled   182.0     0.0     0.0     0.0  \n",
       "Min_scaled     0.0     0.0     0.0     0.0  \n",
       "\n",
       "[9 rows x 10978 columns]"
      ]
     },
     "execution_count": 10,
     "metadata": {},
     "output_type": "execute_result"
    }
   ],
   "source": [
    "# Add mean column to outlier_check dataframe\n",
    "mean = rating_df_min.groupby('item_id')['playtime'].mean()\n",
    "\n",
    "outlier_check = outlier_check.append([mean]).rename(index = {'playtime': 'Mean'})\n",
    "\n",
    "outlier_check = outlier_check.append([rating_df_min.groupby(['item_id'])['playtime'].max()]).rename(index = {'playtime': 'Max_scaled'})\n",
    "outlier_check = outlier_check.append([rating_df_min.groupby(['item_id'])['playtime'].min()]).rename(index = {'playtime': 'Min_scaled'})\n",
    "outlier_check"
   ]
  },
  {
   "cell_type": "code",
   "execution_count": 13,
   "id": "4476225b",
   "metadata": {},
   "outputs": [
    {
     "data": {
      "text/html": [
       "<div>\n",
       "<style scoped>\n",
       "    .dataframe tbody tr th:only-of-type {\n",
       "        vertical-align: middle;\n",
       "    }\n",
       "\n",
       "    .dataframe tbody tr th {\n",
       "        vertical-align: top;\n",
       "    }\n",
       "\n",
       "    .dataframe thead th {\n",
       "        text-align: right;\n",
       "    }\n",
       "</style>\n",
       "<table border=\"1\" class=\"dataframe\">\n",
       "  <thead>\n",
       "    <tr style=\"text-align: right;\">\n",
       "      <th></th>\n",
       "      <th>user_id</th>\n",
       "      <th>item_id</th>\n",
       "      <th>item_name</th>\n",
       "      <th>playtime</th>\n",
       "      <th>playtime_scaled</th>\n",
       "    </tr>\n",
       "  </thead>\n",
       "  <tbody>\n",
       "    <tr>\n",
       "      <th>0</th>\n",
       "      <td>76561197970982479</td>\n",
       "      <td>10</td>\n",
       "      <td>Counter-Strike</td>\n",
       "      <td>6.0</td>\n",
       "      <td>-0.136998</td>\n",
       "    </tr>\n",
       "    <tr>\n",
       "      <th>1</th>\n",
       "      <td>76561197970982479</td>\n",
       "      <td>20</td>\n",
       "      <td>Team Fortress Classic</td>\n",
       "      <td>0.0</td>\n",
       "      <td>-0.015428</td>\n",
       "    </tr>\n",
       "    <tr>\n",
       "      <th>2</th>\n",
       "      <td>76561197970982479</td>\n",
       "      <td>30</td>\n",
       "      <td>Day of Defeat</td>\n",
       "      <td>7.0</td>\n",
       "      <td>-0.079426</td>\n",
       "    </tr>\n",
       "    <tr>\n",
       "      <th>3</th>\n",
       "      <td>76561197970982479</td>\n",
       "      <td>40</td>\n",
       "      <td>Deathmatch Classic</td>\n",
       "      <td>0.0</td>\n",
       "      <td>-0.187355</td>\n",
       "    </tr>\n",
       "    <tr>\n",
       "      <th>4</th>\n",
       "      <td>76561197970982479</td>\n",
       "      <td>50</td>\n",
       "      <td>Half-Life: Opposing Force</td>\n",
       "      <td>0.0</td>\n",
       "      <td>-0.235427</td>\n",
       "    </tr>\n",
       "    <tr>\n",
       "      <th>...</th>\n",
       "      <td>...</td>\n",
       "      <td>...</td>\n",
       "      <td>...</td>\n",
       "      <td>...</td>\n",
       "      <td>...</td>\n",
       "    </tr>\n",
       "    <tr>\n",
       "      <th>5153204</th>\n",
       "      <td>76561198329548331</td>\n",
       "      <td>346330</td>\n",
       "      <td>BrainBread 2</td>\n",
       "      <td>0.0</td>\n",
       "      <td>-0.010618</td>\n",
       "    </tr>\n",
       "    <tr>\n",
       "      <th>5153205</th>\n",
       "      <td>76561198329548331</td>\n",
       "      <td>373330</td>\n",
       "      <td>All Is Dust</td>\n",
       "      <td>0.0</td>\n",
       "      <td>-0.030386</td>\n",
       "    </tr>\n",
       "    <tr>\n",
       "      <th>5153206</th>\n",
       "      <td>76561198329548331</td>\n",
       "      <td>388490</td>\n",
       "      <td>One Way To Die: Steam Edition</td>\n",
       "      <td>3.0</td>\n",
       "      <td>-0.011698</td>\n",
       "    </tr>\n",
       "    <tr>\n",
       "      <th>5153207</th>\n",
       "      <td>76561198329548331</td>\n",
       "      <td>521570</td>\n",
       "      <td>You Have 10 Seconds 2</td>\n",
       "      <td>4.0</td>\n",
       "      <td>-0.067429</td>\n",
       "    </tr>\n",
       "    <tr>\n",
       "      <th>5153208</th>\n",
       "      <td>76561198329548331</td>\n",
       "      <td>519140</td>\n",
       "      <td>Minds Eyes</td>\n",
       "      <td>3.0</td>\n",
       "      <td>-0.010293</td>\n",
       "    </tr>\n",
       "  </tbody>\n",
       "</table>\n",
       "<p>5153209 rows × 5 columns</p>\n",
       "</div>"
      ],
      "text/plain": [
       "                   user_id  item_id                      item_name  playtime  \\\n",
       "0        76561197970982479       10                 Counter-Strike       6.0   \n",
       "1        76561197970982479       20          Team Fortress Classic       0.0   \n",
       "2        76561197970982479       30                  Day of Defeat       7.0   \n",
       "3        76561197970982479       40             Deathmatch Classic       0.0   \n",
       "4        76561197970982479       50      Half-Life: Opposing Force       0.0   \n",
       "...                    ...      ...                            ...       ...   \n",
       "5153204  76561198329548331   346330                   BrainBread 2       0.0   \n",
       "5153205  76561198329548331   373330                    All Is Dust       0.0   \n",
       "5153206  76561198329548331   388490  One Way To Die: Steam Edition       3.0   \n",
       "5153207  76561198329548331   521570          You Have 10 Seconds 2       4.0   \n",
       "5153208  76561198329548331   519140                     Minds Eyes       3.0   \n",
       "\n",
       "         playtime_scaled  \n",
       "0              -0.136998  \n",
       "1              -0.015428  \n",
       "2              -0.079426  \n",
       "3              -0.187355  \n",
       "4              -0.235427  \n",
       "...                  ...  \n",
       "5153204        -0.010618  \n",
       "5153205        -0.030386  \n",
       "5153206        -0.011698  \n",
       "5153207        -0.067429  \n",
       "5153208        -0.010293  \n",
       "\n",
       "[5153209 rows x 5 columns]"
      ]
     },
     "execution_count": 13,
     "metadata": {},
     "output_type": "execute_result"
    }
   ],
   "source": [
    "# Min-max scaling [ scaled = ( value - mean ) / ( max - min ) ]\n",
    "def scaled(row):\n",
    "    return (row['playtime'] - outlier_check.loc['Mean',row['item_id']]) / (outlier_check.loc['Max_scaled',row['item_id']] - outlier_check.loc['Min_scaled',row['item_id']])\n",
    "\n",
    "rating_df_min['playtime_scaled'] =rating_df_min.apply(scaled , axis = 1)\n",
    "\n",
    "min_scaled = rating_df_min.groupby('item_id')['playtime_scaled'].min()\n",
    "outlier_check = outlier_check.append([min_scaled]).rename(index = {'playtime_scaled': 'Less_Value'})\n",
    "rating_df_min"
   ]
  },
  {
   "cell_type": "code",
   "execution_count": 14,
   "id": "f0f1574f",
   "metadata": {},
   "outputs": [],
   "source": [
    "# Add max scaled value to outlier_check dataframe\n",
    "max_scaled = rating_df_min.groupby('item_id')['playtime_scaled'].max()\n",
    "outlier_check = outlier_check.append([max_scaled]).rename(index = {'playtime_scaled': 'Max_Value'})"
   ]
  },
  {
   "cell_type": "code",
   "execution_count": 15,
   "id": "ea4cb53a",
   "metadata": {
    "scrolled": true
   },
   "outputs": [
    {
     "data": {
      "text/html": [
       "<div>\n",
       "<style scoped>\n",
       "    .dataframe tbody tr th:only-of-type {\n",
       "        vertical-align: middle;\n",
       "    }\n",
       "\n",
       "    .dataframe tbody tr th {\n",
       "        vertical-align: top;\n",
       "    }\n",
       "\n",
       "    .dataframe thead th {\n",
       "        text-align: right;\n",
       "    }\n",
       "</style>\n",
       "<table border=\"1\" class=\"dataframe\">\n",
       "  <thead>\n",
       "    <tr style=\"text-align: right;\">\n",
       "      <th></th>\n",
       "      <th>user_id</th>\n",
       "      <th>item_id</th>\n",
       "      <th>item_name</th>\n",
       "      <th>playtime_scaled</th>\n",
       "    </tr>\n",
       "  </thead>\n",
       "  <tbody>\n",
       "    <tr>\n",
       "      <th>0</th>\n",
       "      <td>76561197970982479</td>\n",
       "      <td>10</td>\n",
       "      <td>Counter-Strike</td>\n",
       "      <td>0.003144</td>\n",
       "    </tr>\n",
       "    <tr>\n",
       "      <th>1</th>\n",
       "      <td>76561197970982479</td>\n",
       "      <td>30</td>\n",
       "      <td>Day of Defeat</td>\n",
       "      <td>0.043750</td>\n",
       "    </tr>\n",
       "    <tr>\n",
       "      <th>2</th>\n",
       "      <td>76561197970982479</td>\n",
       "      <td>2630</td>\n",
       "      <td>Call of Duty 2</td>\n",
       "      <td>0.094295</td>\n",
       "    </tr>\n",
       "    <tr>\n",
       "      <th>3</th>\n",
       "      <td>76561197970982479</td>\n",
       "      <td>6400</td>\n",
       "      <td>Joint Task Force</td>\n",
       "      <td>1.000000</td>\n",
       "    </tr>\n",
       "    <tr>\n",
       "      <th>4</th>\n",
       "      <td>76561197970982479</td>\n",
       "      <td>6910</td>\n",
       "      <td>Deus Ex: Game of the Year Edition</td>\n",
       "      <td>1.000000</td>\n",
       "    </tr>\n",
       "    <tr>\n",
       "      <th>...</th>\n",
       "      <td>...</td>\n",
       "      <td>...</td>\n",
       "      <td>...</td>\n",
       "      <td>...</td>\n",
       "    </tr>\n",
       "    <tr>\n",
       "      <th>3069897</th>\n",
       "      <td>76561198329548331</td>\n",
       "      <td>304930</td>\n",
       "      <td>Unturned</td>\n",
       "      <td>0.005748</td>\n",
       "    </tr>\n",
       "    <tr>\n",
       "      <th>3069898</th>\n",
       "      <td>76561198329548331</td>\n",
       "      <td>227940</td>\n",
       "      <td>Heroes &amp; Generals</td>\n",
       "      <td>0.000419</td>\n",
       "    </tr>\n",
       "    <tr>\n",
       "      <th>3069899</th>\n",
       "      <td>76561198329548331</td>\n",
       "      <td>388490</td>\n",
       "      <td>One Way To Die: Steam Edition</td>\n",
       "      <td>0.005236</td>\n",
       "    </tr>\n",
       "    <tr>\n",
       "      <th>3069900</th>\n",
       "      <td>76561198329548331</td>\n",
       "      <td>521570</td>\n",
       "      <td>You Have 10 Seconds 2</td>\n",
       "      <td>0.020408</td>\n",
       "    </tr>\n",
       "    <tr>\n",
       "      <th>3069901</th>\n",
       "      <td>76561198329548331</td>\n",
       "      <td>519140</td>\n",
       "      <td>Minds Eyes</td>\n",
       "      <td>0.000665</td>\n",
       "    </tr>\n",
       "  </tbody>\n",
       "</table>\n",
       "<p>3069902 rows × 4 columns</p>\n",
       "</div>"
      ],
      "text/plain": [
       "                   user_id  item_id                          item_name  \\\n",
       "0        76561197970982479       10                     Counter-Strike   \n",
       "1        76561197970982479       30                      Day of Defeat   \n",
       "2        76561197970982479     2630                     Call of Duty 2   \n",
       "3        76561197970982479     6400                   Joint Task Force   \n",
       "4        76561197970982479     6910  Deus Ex: Game of the Year Edition   \n",
       "...                    ...      ...                                ...   \n",
       "3069897  76561198329548331   304930                           Unturned   \n",
       "3069898  76561198329548331   227940                  Heroes & Generals   \n",
       "3069899  76561198329548331   388490      One Way To Die: Steam Edition   \n",
       "3069900  76561198329548331   521570              You Have 10 Seconds 2   \n",
       "3069901  76561198329548331   519140                         Minds Eyes   \n",
       "\n",
       "         playtime_scaled  \n",
       "0               0.003144  \n",
       "1               0.043750  \n",
       "2               0.094295  \n",
       "3               1.000000  \n",
       "4               1.000000  \n",
       "...                  ...  \n",
       "3069897         0.005748  \n",
       "3069898         0.000419  \n",
       "3069899         0.005236  \n",
       "3069900         0.020408  \n",
       "3069901         0.000665  \n",
       "\n",
       "[3069902 rows x 4 columns]"
      ]
     },
     "execution_count": 15,
     "metadata": {},
     "output_type": "execute_result"
    }
   ],
   "source": [
    "# Make scaled values to have range between 0 - 1\n",
    "def make_positive(row):\n",
    "    return row['playtime_scaled'] + abs(outlier_check.loc['Less_Value',row['item_id']])\n",
    "    \n",
    "rating_df_min['playtime_scaled'] =rating_df_min.apply(make_positive , axis = 1)\n",
    "\n",
    "rating_df_min = rating_df_min[rating_df_min['playtime'] > 0]\n",
    "rating_df_min = rating_df_min.reset_index(drop= True)\n",
    "rating_df_min = rating_df_min.drop(['playtime'], axis =1)\n",
    "rating_df_min"
   ]
  },
  {
   "cell_type": "code",
   "execution_count": 18,
   "id": "7cdec125",
   "metadata": {},
   "outputs": [],
   "source": [
    "scale = outlier_check.drop(['Min', 'Q1', 'Q3', 'Max', 'Lower', 'Upper', 'Max_Value'], axis = 0)"
   ]
  },
  {
   "cell_type": "markdown",
   "id": "51762fa8",
   "metadata": {},
   "source": [
    "### Filter each game must have more than 15 players"
   ]
  },
  {
   "cell_type": "code",
   "execution_count": 22,
   "id": "43707129",
   "metadata": {},
   "outputs": [
    {
     "data": {
      "text/html": [
       "<div>\n",
       "<style scoped>\n",
       "    .dataframe tbody tr th:only-of-type {\n",
       "        vertical-align: middle;\n",
       "    }\n",
       "\n",
       "    .dataframe tbody tr th {\n",
       "        vertical-align: top;\n",
       "    }\n",
       "\n",
       "    .dataframe thead th {\n",
       "        text-align: right;\n",
       "    }\n",
       "</style>\n",
       "<table border=\"1\" class=\"dataframe\">\n",
       "  <thead>\n",
       "    <tr style=\"text-align: right;\">\n",
       "      <th></th>\n",
       "      <th>item_id</th>\n",
       "      <th>num_user</th>\n",
       "    </tr>\n",
       "  </thead>\n",
       "  <tbody>\n",
       "    <tr>\n",
       "      <th>0</th>\n",
       "      <td>10</td>\n",
       "      <td>6038</td>\n",
       "    </tr>\n",
       "    <tr>\n",
       "      <th>1</th>\n",
       "      <td>20</td>\n",
       "      <td>2627</td>\n",
       "    </tr>\n",
       "    <tr>\n",
       "      <th>2</th>\n",
       "      <td>30</td>\n",
       "      <td>1266</td>\n",
       "    </tr>\n",
       "    <tr>\n",
       "      <th>3</th>\n",
       "      <td>40</td>\n",
       "      <td>666</td>\n",
       "    </tr>\n",
       "    <tr>\n",
       "      <th>4</th>\n",
       "      <td>50</td>\n",
       "      <td>1908</td>\n",
       "    </tr>\n",
       "    <tr>\n",
       "      <th>...</th>\n",
       "      <td>...</td>\n",
       "      <td>...</td>\n",
       "    </tr>\n",
       "    <tr>\n",
       "      <th>9944</th>\n",
       "      <td>527570</td>\n",
       "      <td>1</td>\n",
       "    </tr>\n",
       "    <tr>\n",
       "      <th>9945</th>\n",
       "      <td>527810</td>\n",
       "      <td>1</td>\n",
       "    </tr>\n",
       "    <tr>\n",
       "      <th>9946</th>\n",
       "      <td>527890</td>\n",
       "      <td>1</td>\n",
       "    </tr>\n",
       "    <tr>\n",
       "      <th>9947</th>\n",
       "      <td>527900</td>\n",
       "      <td>1</td>\n",
       "    </tr>\n",
       "    <tr>\n",
       "      <th>9948</th>\n",
       "      <td>528660</td>\n",
       "      <td>1</td>\n",
       "    </tr>\n",
       "  </tbody>\n",
       "</table>\n",
       "<p>9949 rows × 2 columns</p>\n",
       "</div>"
      ],
      "text/plain": [
       "      item_id  num_user\n",
       "0          10      6038\n",
       "1          20      2627\n",
       "2          30      1266\n",
       "3          40       666\n",
       "4          50      1908\n",
       "...       ...       ...\n",
       "9944   527570         1\n",
       "9945   527810         1\n",
       "9946   527890         1\n",
       "9947   527900         1\n",
       "9948   528660         1\n",
       "\n",
       "[9949 rows x 2 columns]"
      ]
     },
     "execution_count": 22,
     "metadata": {},
     "output_type": "execute_result"
    }
   ],
   "source": [
    "user_grouped = rating_df_min.groupby('item_id')['user_id'].count().reset_index(name='num_user')\n",
    "user_grouped"
   ]
  },
  {
   "cell_type": "code",
   "execution_count": 23,
   "id": "f122f9db",
   "metadata": {},
   "outputs": [
    {
     "name": "stdout",
     "output_type": "stream",
     "text": [
      "Median number of users: 23.0\n"
     ]
    }
   ],
   "source": [
    "median_num_user = user_grouped['num_user'].median()\n",
    "print(f\"Median number of users: {median_num_user}\")"
   ]
  },
  {
   "cell_type": "code",
   "execution_count": 24,
   "id": "d27abfce",
   "metadata": {},
   "outputs": [
    {
     "data": {
      "text/plain": [
       "Text(15, 2000, 'Cut off: 15')"
      ]
     },
     "execution_count": 24,
     "metadata": {},
     "output_type": "execute_result"
    },
    {
     "data": {
      "image/png": "[encoded data removed]",
      "text/plain": [
       "<Figure size 720x504 with 1 Axes>"
      ]
     },
     "metadata": {},
     "output_type": "display_data"
    }
   ],
   "source": [
    "fig, ax = plt.subplots(figsize=(10, 7))\n",
    "sns.histplot(x='num_user', data=user_grouped, binwidth=5)\n",
    "plt.xlim(0, 100)\n",
    "ax.set_xticks(np.arange(0, 105, 5))\n",
    "ax.set_xlabel(\"Number of user rated\")\n",
    "ax.axvline(median_num_user, color='red', linestyle='--',\n",
    "           alpha=.5)\n",
    "ax.text(median_num_user, 2000, f\"Median: {median_num_user}\", va='center',\n",
    "        ha='left', color='red')\n",
    "ax.axvline(15, color='green', linestyle='--',\n",
    "           alpha=.7)\n",
    "ax.text(15, 2000, f\"Cut off: 15\", va='center',\n",
    "        ha='left', color='green')"
   ]
  },
  {
   "cell_type": "code",
   "execution_count": 25,
   "id": "90cf44cb",
   "metadata": {},
   "outputs": [
    {
     "data": {
      "application/vnd.jupyter.widget-view+json": {
       "model_id": "6162abe6e73849d98d774d14ac8995d6",
       "version_major": 2,
       "version_minor": 0
      },
      "text/plain": [
       "  0%|          | 0/34899 [00:00<?, ?it/s]"
      ]
     },
     "metadata": {},
     "output_type": "display_data"
    }
   ],
   "source": [
    "num_remain = []\n",
    "num_filter = []\n",
    "\n",
    "for i in tqdm(range(user_grouped['num_user'].max())):\n",
    "    num_remain.append((~(user_grouped['num_user'] < i)).sum())\n",
    "    num_filter.append(i)"
   ]
  },
  {
   "cell_type": "code",
   "execution_count": 26,
   "id": "e3aabf77",
   "metadata": {},
   "outputs": [
    {
     "data": {
      "text/plain": [
       "Text(0.5, 0, 'Number of filtered user rated')"
      ]
     },
     "execution_count": 26,
     "metadata": {},
     "output_type": "execute_result"
    },
    {
     "data": {
      "image/png": "[encoded data removed]",
      "text/plain": [
       "<Figure size 720x504 with 1 Axes>"
      ]
     },
     "metadata": {},
     "output_type": "display_data"
    }
   ],
   "source": [
    "fig, ax = plt.subplots(figsize=(10, 7))\n",
    "\n",
    "sns.lineplot(x=num_filter, y=num_remain)\n",
    "ax.set_xticks(np.arange(0, 1000, 50))\n",
    "ax.set_yticks(np.arange(0, 10000, 1000))\n",
    "ax.grid(linestyle='--', alpha=.5)\n",
    "ax.set_xlim(0, 1000)\n",
    "\n",
    "ax.axvline(15, color='red', linestyle='--', alpha=.7)\n",
    "ax.text(15, 9000, f\"Cut off: 15\", ha='left', color='red', va='bottom')\n",
    "\n",
    "ax.set_ylabel('Number of remaining anime')\n",
    "ax.set_xlabel('Number of filtered user rated')"
   ]
  },
  {
   "cell_type": "code",
   "execution_count": 27,
   "id": "9dafae14",
   "metadata": {},
   "outputs": [],
   "source": [
    "game_id_min = user_grouped.loc[user_grouped['num_user'] >= 15, 'item_id'].values\n",
    "rating_df_min = rating_df_min[rating_df_min['item_id'].isin(game_id_min)] # filter game rated users >= 15"
   ]
  },
  {
   "cell_type": "markdown",
   "id": "e5b2851b",
   "metadata": {},
   "source": [
    "### Filter each player must play game at least 10 games"
   ]
  },
  {
   "cell_type": "code",
   "execution_count": 28,
   "id": "05d0543e",
   "metadata": {},
   "outputs": [
    {
     "data": {
      "text/html": [
       "<div>\n",
       "<style scoped>\n",
       "    .dataframe tbody tr th:only-of-type {\n",
       "        vertical-align: middle;\n",
       "    }\n",
       "\n",
       "    .dataframe tbody tr th {\n",
       "        vertical-align: top;\n",
       "    }\n",
       "\n",
       "    .dataframe thead th {\n",
       "        text-align: right;\n",
       "    }\n",
       "</style>\n",
       "<table border=\"1\" class=\"dataframe\">\n",
       "  <thead>\n",
       "    <tr style=\"text-align: right;\">\n",
       "      <th></th>\n",
       "      <th>user_id</th>\n",
       "      <th>num_rate_game</th>\n",
       "    </tr>\n",
       "  </thead>\n",
       "  <tbody>\n",
       "    <tr>\n",
       "      <th>0</th>\n",
       "      <td>--000--</td>\n",
       "      <td>39</td>\n",
       "    </tr>\n",
       "    <tr>\n",
       "      <th>1</th>\n",
       "      <td>--ace--</td>\n",
       "      <td>23</td>\n",
       "    </tr>\n",
       "    <tr>\n",
       "      <th>2</th>\n",
       "      <td>--ionex--</td>\n",
       "      <td>20</td>\n",
       "    </tr>\n",
       "    <tr>\n",
       "      <th>3</th>\n",
       "      <td>-2SV-vuLB-Kg</td>\n",
       "      <td>42</td>\n",
       "    </tr>\n",
       "    <tr>\n",
       "      <th>4</th>\n",
       "      <td>-404PageNotFound-</td>\n",
       "      <td>105</td>\n",
       "    </tr>\n",
       "    <tr>\n",
       "      <th>...</th>\n",
       "      <td>...</td>\n",
       "      <td>...</td>\n",
       "    </tr>\n",
       "    <tr>\n",
       "      <th>67633</th>\n",
       "      <td>zzonci</td>\n",
       "      <td>1</td>\n",
       "    </tr>\n",
       "    <tr>\n",
       "      <th>67634</th>\n",
       "      <td>zzoptimuszz</td>\n",
       "      <td>46</td>\n",
       "    </tr>\n",
       "    <tr>\n",
       "      <th>67635</th>\n",
       "      <td>zzydrax</td>\n",
       "      <td>2</td>\n",
       "    </tr>\n",
       "    <tr>\n",
       "      <th>67636</th>\n",
       "      <td>zzyfo</td>\n",
       "      <td>44</td>\n",
       "    </tr>\n",
       "    <tr>\n",
       "      <th>67637</th>\n",
       "      <td>zzzmidmiss</td>\n",
       "      <td>43</td>\n",
       "    </tr>\n",
       "  </tbody>\n",
       "</table>\n",
       "<p>67638 rows × 2 columns</p>\n",
       "</div>"
      ],
      "text/plain": [
       "                 user_id  num_rate_game\n",
       "0                --000--             39\n",
       "1                --ace--             23\n",
       "2              --ionex--             20\n",
       "3           -2SV-vuLB-Kg             42\n",
       "4      -404PageNotFound-            105\n",
       "...                  ...            ...\n",
       "67633             zzonci              1\n",
       "67634        zzoptimuszz             46\n",
       "67635            zzydrax              2\n",
       "67636              zzyfo             44\n",
       "67637         zzzmidmiss             43\n",
       "\n",
       "[67638 rows x 2 columns]"
      ]
     },
     "execution_count": 28,
     "metadata": {},
     "output_type": "execute_result"
    }
   ],
   "source": [
    "user_grouped = rating_df_min.groupby(['user_id'])['item_id'].count().reset_index(name='num_rate_game')\n",
    "user_grouped"
   ]
  },
  {
   "cell_type": "code",
   "execution_count": 29,
   "id": "2cd60b51",
   "metadata": {},
   "outputs": [
    {
     "name": "stdout",
     "output_type": "stream",
     "text": [
      "Median of number game rated: 27.0\n"
     ]
    }
   ],
   "source": [
    "median_num_rate_game = user_grouped['num_rate_game'].median()\n",
    "print(f\"Median of number game rated: {median_num_rate_game}\")"
   ]
  },
  {
   "cell_type": "code",
   "execution_count": 30,
   "id": "0ec1f065",
   "metadata": {},
   "outputs": [
    {
     "data": {
      "text/plain": [
       "Text(10, 10700, 'Cut off: 10')"
      ]
     },
     "execution_count": 30,
     "metadata": {},
     "output_type": "execute_result"
    },
    {
     "data": {
      "image/png": "[encoded data removed]",
      "text/plain": [
       "<Figure size 720x504 with 1 Axes>"
      ]
     },
     "metadata": {},
     "output_type": "display_data"
    }
   ],
   "source": [
    "fig, ax = plt.subplots(figsize=(10, 7))\n",
    "sns.histplot(x='num_rate_game', data=user_grouped)\n",
    "plt.xlim(0, 500)\n",
    "ax.set_xlabel(\"Number game rated\")\n",
    "ax.axvline(median_num_rate_game, color='red', linestyle='--',\n",
    "           alpha=.5)\n",
    "ax.text(median_num_rate_game+5, 10000, f\"Median: {median_num_rate_game}\", \n",
    "        ha='left', color='red')\n",
    "ax.axvline(10, color='green', linestyle='--',\n",
    "           alpha=.7)\n",
    "ax.text(10, 10700, f\"Cut off: 10\", \n",
    "        ha='center', color='green')"
   ]
  },
  {
   "cell_type": "code",
   "execution_count": 31,
   "id": "139f5c1f",
   "metadata": {},
   "outputs": [
    {
     "data": {
      "application/vnd.jupyter.widget-view+json": {
       "model_id": "1f5a3b4163b9432bb3782ee75a518ebb",
       "version_major": 2,
       "version_minor": 0
      },
      "text/plain": [
       "  0%|          | 0/3056 [00:00<?, ?it/s]"
      ]
     },
     "metadata": {},
     "output_type": "display_data"
    }
   ],
   "source": [
    "num_remain = []\n",
    "num_filter = []\n",
    "\n",
    "for i in tqdm(range(user_grouped['num_rate_game'].max())):\n",
    "    num_remain.append((~(user_grouped['num_rate_game'] < i)).sum())\n",
    "    num_filter.append(i)"
   ]
  },
  {
   "cell_type": "code",
   "execution_count": 32,
   "id": "69e236a3",
   "metadata": {},
   "outputs": [
    {
     "data": {
      "text/plain": [
       "Text(0.5, 0, 'Number of filtered rated game')"
      ]
     },
     "execution_count": 32,
     "metadata": {},
     "output_type": "execute_result"
    },
    {
     "data": {
      "image/png": "[encoded data removed]",
      "text/plain": [
       "<Figure size 720x504 with 1 Axes>"
      ]
     },
     "metadata": {},
     "output_type": "display_data"
    }
   ],
   "source": [
    "fig, ax = plt.subplots(figsize=(10, 7))\n",
    "\n",
    "sns.lineplot(x=num_filter, y=num_remain)\n",
    "ax.set_xticks(np.arange(0, 510, 20))\n",
    "ax.set_yticks(np.arange(0, 71000, 5000))\n",
    "ax.grid(linestyle='--', alpha=.5)\n",
    "ax.set_xlim(0, 300)\n",
    "\n",
    "ax.axvline(10, color='red', linestyle='--', alpha=.7)\n",
    "ax.text(10, 70000, f\"Cut off: 10\", ha='left', color='red', va='bottom')\n",
    "\n",
    "ax.set_ylabel('Number of remaining users')\n",
    "ax.set_xlabel('Number of filtered rated game')"
   ]
  },
  {
   "cell_type": "code",
   "execution_count": 33,
   "id": "5ffead75",
   "metadata": {},
   "outputs": [],
   "source": [
    "user_id_min = user_grouped.loc[user_grouped['num_rate_game'] >= 10, 'user_id'].values\n",
    "rating_df_min = rating_df_min[rating_df_min['user_id'].isin(user_id_min)] # filter user rated games >= 10"
   ]
  },
  {
   "cell_type": "code",
   "execution_count": 34,
   "id": "6010dda7",
   "metadata": {},
   "outputs": [],
   "source": [
    "# Make playtime to have range between 0 - 10\n",
    "rating_df_min['playtime_scaled'] =  rating_df_min['playtime_scaled'] *10"
   ]
  },
  {
   "cell_type": "markdown",
   "id": "3e83debe",
   "metadata": {},
   "source": [
    "## Data Visualization"
   ]
  },
  {
   "cell_type": "code",
   "execution_count": 35,
   "id": "0212cb3a",
   "metadata": {},
   "outputs": [
    {
     "data": {
      "text/plain": [
       "<seaborn.axisgrid.FacetGrid at 0x22b27185490>"
      ]
     },
     "execution_count": 35,
     "metadata": {},
     "output_type": "execute_result"
    },
    {
     "data": {
      "image/png": "[encoded data removed]",
      "text/plain": [
       "<Figure size 360x360 with 1 Axes>"
      ]
     },
     "metadata": {},
     "output_type": "display_data"
    }
   ],
   "source": [
    "mean_rate_df = rating_df_min.groupby(['user_id'])['playtime_scaled'].median()\n",
    "mean_rate_df = mean_rate_df.reset_index()\n",
    "sns.displot(x='playtime_scaled', data=mean_rate_df)"
   ]
  },
  {
   "cell_type": "code",
   "execution_count": 36,
   "id": "0c0d7f78",
   "metadata": {},
   "outputs": [
    {
     "data": {
      "text/plain": [
       "<seaborn.axisgrid.FacetGrid at 0x22b6ddeab50>"
      ]
     },
     "execution_count": 36,
     "metadata": {},
     "output_type": "execute_result"
    },
    {
     "data": {
      "image/png": "[encoded data removed]",
      "text/plain": [
       "<Figure size 360x360 with 1 Axes>"
      ]
     },
     "metadata": {},
     "output_type": "display_data"
    }
   ],
   "source": [
    "game_mean_rate_df = rating_df_min.groupby(['item_id'])['playtime_scaled'].median()\n",
    "game_mean_rate_df = game_mean_rate_df.reset_index()\n",
    "sns.displot(x='playtime_scaled', data=game_mean_rate_df)"
   ]
  },
  {
   "cell_type": "code",
   "execution_count": 37,
   "id": "f19c46e8",
   "metadata": {},
   "outputs": [],
   "source": [
    "game_grouped_df = rating_df_min.groupby(['item_name'])['user_id'].count().reset_index(name='rating_cnt')\n",
    "game_grouped_df = game_grouped_df.sort_values(['rating_cnt'], ascending=False).reset_index(drop= True)"
   ]
  },
  {
   "cell_type": "code",
   "execution_count": 38,
   "id": "e36f67a6",
   "metadata": {},
   "outputs": [
    {
     "data": {
      "text/plain": [
       "Text(0.5, 1.0, 'Top 10 game based on number of users rated')"
      ]
     },
     "execution_count": 38,
     "metadata": {},
     "output_type": "execute_result"
    },
    {
     "data": {
      "image/png": "[encoded data removed]",
      "text/plain": [
       "<Figure size 432x288 with 1 Axes>"
      ]
     },
     "metadata": {},
     "output_type": "display_data"
    }
   ],
   "source": [
    "sns.barplot(y='item_name', x='rating_cnt', data=game_grouped_df.head(10))\n",
    "plt.title(\"Top 10 game based on number of users rated\")"
   ]
  },
  {
   "cell_type": "code",
   "execution_count": 39,
   "id": "eb121963",
   "metadata": {},
   "outputs": [
    {
     "data": {
      "text/plain": [
       "array(['Left 4 Dead 2', 'Unturned', 'Terraria', ..., 'Underrail',\n",
       "       'Arx Fatalis', 'Reaper - Tale of a Pale Swordsman'], dtype=object)"
      ]
     },
     "execution_count": 39,
     "metadata": {},
     "output_type": "execute_result"
    }
   ],
   "source": [
    "game_id_filter = game_grouped_df.loc[game_grouped_df['rating_cnt'] >= 100, 'item_name'] # filter anime rated more than 100 users\n",
    "game_id_filter.values"
   ]
  },
  {
   "cell_type": "code",
   "execution_count": 40,
   "id": "f86664d6",
   "metadata": {},
   "outputs": [],
   "source": [
    "rating_df_filter = rating_df_min.loc[rating_df_min['item_name'].isin(game_id_filter.values)]\n",
    "game_grouped_df = rating_df_filter.groupby(['item_name'])['playtime_scaled'].mean().reset_index(name='rating_mean')\n",
    "game_grouped_df = game_grouped_df.sort_values(['rating_mean'], ascending=False)"
   ]
  },
  {
   "cell_type": "code",
   "execution_count": 41,
   "id": "69fed1b0",
   "metadata": {},
   "outputs": [
    {
     "data": {
      "text/plain": [
       "Text(0.5, 1.0, 'Top 10 game based on mean of rating')"
      ]
     },
     "execution_count": 41,
     "metadata": {},
     "output_type": "execute_result"
    },
    {
     "data": {
      "image/png": "[encoded data removed]",
      "text/plain": [
       "<Figure size 432x288 with 1 Axes>"
      ]
     },
     "metadata": {},
     "output_type": "display_data"
    }
   ],
   "source": [
    "sns.barplot(y='item_name', x='rating_mean', data=game_grouped_df.head(10))\n",
    "plt.title(\"Top 10 game based on mean of rating\")"
   ]
  },
  {
   "cell_type": "markdown",
   "id": "abd9a47c",
   "metadata": {},
   "source": [
    "## Modeling"
   ]
  },
  {
   "cell_type": "code",
   "execution_count": 42,
   "id": "34570357",
   "metadata": {},
   "outputs": [
    {
     "data": {
      "text/html": [
       "<div>\n",
       "<style scoped>\n",
       "    .dataframe tbody tr th:only-of-type {\n",
       "        vertical-align: middle;\n",
       "    }\n",
       "\n",
       "    .dataframe tbody tr th {\n",
       "        vertical-align: top;\n",
       "    }\n",
       "\n",
       "    .dataframe thead th {\n",
       "        text-align: right;\n",
       "    }\n",
       "</style>\n",
       "<table border=\"1\" class=\"dataframe\">\n",
       "  <thead>\n",
       "    <tr style=\"text-align: right;\">\n",
       "      <th></th>\n",
       "      <th>user_id</th>\n",
       "      <th>item_id</th>\n",
       "      <th>item_name</th>\n",
       "      <th>playtime_scaled</th>\n",
       "    </tr>\n",
       "  </thead>\n",
       "  <tbody>\n",
       "    <tr>\n",
       "      <th>0</th>\n",
       "      <td>76561197970982479</td>\n",
       "      <td>10</td>\n",
       "      <td>Counter-Strike</td>\n",
       "      <td>0.031438</td>\n",
       "    </tr>\n",
       "    <tr>\n",
       "      <th>1</th>\n",
       "      <td>76561197970982479</td>\n",
       "      <td>30</td>\n",
       "      <td>Day of Defeat</td>\n",
       "      <td>0.437500</td>\n",
       "    </tr>\n",
       "    <tr>\n",
       "      <th>2</th>\n",
       "      <td>76561197970982479</td>\n",
       "      <td>2630</td>\n",
       "      <td>Call of Duty 2</td>\n",
       "      <td>0.942951</td>\n",
       "    </tr>\n",
       "    <tr>\n",
       "      <th>3</th>\n",
       "      <td>76561197970982479</td>\n",
       "      <td>6400</td>\n",
       "      <td>Joint Task Force</td>\n",
       "      <td>10.000000</td>\n",
       "    </tr>\n",
       "    <tr>\n",
       "      <th>4</th>\n",
       "      <td>76561197970982479</td>\n",
       "      <td>6910</td>\n",
       "      <td>Deus Ex: Game of the Year Edition</td>\n",
       "      <td>10.000000</td>\n",
       "    </tr>\n",
       "    <tr>\n",
       "      <th>...</th>\n",
       "      <td>...</td>\n",
       "      <td>...</td>\n",
       "      <td>...</td>\n",
       "      <td>...</td>\n",
       "    </tr>\n",
       "    <tr>\n",
       "      <th>3069872</th>\n",
       "      <td>76561198312638244</td>\n",
       "      <td>286690</td>\n",
       "      <td>Metro 2033 Redux</td>\n",
       "      <td>0.029617</td>\n",
       "    </tr>\n",
       "    <tr>\n",
       "      <th>3069873</th>\n",
       "      <td>76561198312638244</td>\n",
       "      <td>238010</td>\n",
       "      <td>Deus Ex: Human Revolution - Director's Cut</td>\n",
       "      <td>0.222501</td>\n",
       "    </tr>\n",
       "    <tr>\n",
       "      <th>3069874</th>\n",
       "      <td>76561198312638244</td>\n",
       "      <td>362890</td>\n",
       "      <td>Black Mesa</td>\n",
       "      <td>1.665142</td>\n",
       "    </tr>\n",
       "    <tr>\n",
       "      <th>3069875</th>\n",
       "      <td>76561198312638244</td>\n",
       "      <td>400040</td>\n",
       "      <td>ShareX</td>\n",
       "      <td>0.003317</td>\n",
       "    </tr>\n",
       "    <tr>\n",
       "      <th>3069876</th>\n",
       "      <td>76561198312638244</td>\n",
       "      <td>379720</td>\n",
       "      <td>DOOM</td>\n",
       "      <td>0.714069</td>\n",
       "    </tr>\n",
       "  </tbody>\n",
       "</table>\n",
       "<p>2979122 rows × 4 columns</p>\n",
       "</div>"
      ],
      "text/plain": [
       "                   user_id  item_id  \\\n",
       "0        76561197970982479       10   \n",
       "1        76561197970982479       30   \n",
       "2        76561197970982479     2630   \n",
       "3        76561197970982479     6400   \n",
       "4        76561197970982479     6910   \n",
       "...                    ...      ...   \n",
       "3069872  76561198312638244   286690   \n",
       "3069873  76561198312638244   238010   \n",
       "3069874  76561198312638244   362890   \n",
       "3069875  76561198312638244   400040   \n",
       "3069876  76561198312638244   379720   \n",
       "\n",
       "                                          item_name  playtime_scaled  \n",
       "0                                    Counter-Strike         0.031438  \n",
       "1                                     Day of Defeat         0.437500  \n",
       "2                                    Call of Duty 2         0.942951  \n",
       "3                                  Joint Task Force        10.000000  \n",
       "4                 Deus Ex: Game of the Year Edition        10.000000  \n",
       "...                                             ...              ...  \n",
       "3069872                            Metro 2033 Redux         0.029617  \n",
       "3069873  Deus Ex: Human Revolution - Director's Cut         0.222501  \n",
       "3069874                                  Black Mesa         1.665142  \n",
       "3069875                                      ShareX         0.003317  \n",
       "3069876                                        DOOM         0.714069  \n",
       "\n",
       "[2979122 rows x 4 columns]"
      ]
     },
     "execution_count": 42,
     "metadata": {},
     "output_type": "execute_result"
    }
   ],
   "source": [
    "rating_df_min"
   ]
  },
  {
   "cell_type": "code",
   "execution_count": 43,
   "id": "0c123009",
   "metadata": {},
   "outputs": [
    {
     "data": {
      "text/plain": [
       "10"
      ]
     },
     "execution_count": 43,
     "metadata": {},
     "output_type": "execute_result"
    }
   ],
   "source": [
    "rating_df_min.groupby(['user_id'])['item_id'].count().min() # Check min game"
   ]
  },
  {
   "cell_type": "code",
   "execution_count": 44,
   "id": "9368a19e",
   "metadata": {},
   "outputs": [
    {
     "data": {
      "text/plain": [
       "13"
      ]
     },
     "execution_count": 44,
     "metadata": {},
     "output_type": "execute_result"
    }
   ],
   "source": [
    "rating_df_min.groupby(['item_id'])['user_id'].count().min() # Check min user"
   ]
  },
  {
   "cell_type": "markdown",
   "id": "d20f6d67",
   "metadata": {},
   "source": [
    "### Train - Validation - Test set"
   ]
  },
  {
   "cell_type": "code",
   "execution_count": 45,
   "id": "884338a2",
   "metadata": {},
   "outputs": [],
   "source": [
    "# Test set has one game for each users \n",
    "rating_grouped_df = rating_df_min.groupby(['user_id'])\n",
    "test_df = rating_grouped_df.apply(lambda x: x.sample(n = 1, random_state=1))\n",
    "test_df.index = test_df.index.droplevel(level=0)\n",
    "train_df = rating_df_min[~rating_df_min.index.isin(test_df.index)]"
   ]
  },
  {
   "cell_type": "code",
   "execution_count": 2,
   "id": "a4e7be1b",
   "metadata": {},
   "outputs": [],
   "source": [
    "# Data ratio 9 train : 1 valid for each users\n",
    "train_df = train_df.reset_index(drop=True)\n",
    "train_grouped_df = train_df.groupby(['user_id'])\n",
    "valid_df = train_grouped_df.apply(lambda x: x.sample(frac=.1, random_state=1))\n",
    "valid_df.index = valid_df.index.droplevel(level=0)\n",
    "train_df = train_df[~train_df.index.isin(valid_df.index)]"
   ]
  },
  {
   "cell_type": "markdown",
   "id": "861795e3",
   "metadata": {},
   "source": [
    "### Data Loader"
   ]
  },
  {
   "cell_type": "code",
   "execution_count": null,
   "id": "905eb662",
   "metadata": {},
   "outputs": [],
   "source": [
    "train_df = train_df.copy()\n",
    "train_df['is_valid'] = 0\n",
    "\n",
    "valid_df = valid_df.\n",
    "copy()\n",
    "valid_df['is_valid'] = 1\n",
    "\n",
    "train_valid_df = pd.concat([train_df, valid_df], axis=0)\n",
    "train_valid_df"
   ]
  },
  {
   "cell_type": "code",
   "execution_count": null,
   "id": "972c61d7",
   "metadata": {},
   "outputs": [],
   "source": [
    "user_name   = 'user_id'\n",
    "item_name   = 'item_id'\n",
    "rating_name = 'playtime_scaled'\n",
    "cat_names = [user_name,item_name]\n",
    "splits = ColSplitter(col='is_valid')(train_valid_df)\n",
    "to = TabularCollab(train_valid_df, [Categorify], cat_names, y_names=[rating_name], y_block=TransformBlock(), splits=splits)\n",
    "dls = to.dataloaders(bs=256)"
   ]
  },
  {
   "cell_type": "code",
   "execution_count": null,
   "id": "b72732ef",
   "metadata": {},
   "outputs": [],
   "source": [
    "dls.show_batch()"
   ]
  },
  {
   "cell_type": "code",
   "execution_count": null,
   "id": "dd78bac4",
   "metadata": {},
   "outputs": [],
   "source": [
    "print(\"Verify train set\")\n",
    "print(len(dls.train_ds))\n",
    "print(len(train_df))\n",
    "\n",
    "print(\"Verify validation set\")\n",
    "print(len(dls.valid_ds))\n",
    "print(len(valid_df))"
   ]
  },
  {
   "cell_type": "markdown",
   "id": "cda2f016",
   "metadata": {},
   "source": [
    "### Neural Network"
   ]
  },
  {
   "cell_type": "code",
   "execution_count": null,
   "id": "d5d2eee9",
   "metadata": {},
   "outputs": [],
   "source": [
    "wandb.init(project='game-recommend')"
   ]
  },
  {
   "cell_type": "code",
   "execution_count": null,
   "id": "b5d5bb70",
   "metadata": {},
   "outputs": [],
   "source": [
    "emb_szs = {'user_id': 50, 'item_id': 50 }\n",
    "szs = get_emb_sz(dls.train_ds, emb_szs)\n",
    "print(f\"Embedding size (user, item): {szs}, {emb_szs}\")\n",
    "learn = collab_learner(dls, # Dataloader ที่จะนำมา train model\n",
    "                       y_range=(0, 10.5), # Range ของค่าคะแนน rating\n",
    "                       use_nn=True, # ใช้ Neural Network\n",
    "                       emb_szs=emb_szs, # กำหนดขนาดของ Embedding\n",
    "                       metrics=[mse, # Metrics ที่ใช้วัดผล\n",
    "                                mae]).to_fp16()"
   ]
  },
  {
   "cell_type": "code",
   "execution_count": null,
   "id": "04817305",
   "metadata": {},
   "outputs": [],
   "source": [
    "learn.lr_find()"
   ]
  },
  {
   "cell_type": "code",
   "execution_count": null,
   "id": "08c8a96d",
   "metadata": {},
   "outputs": [],
   "source": [
    "learn.fit_one_cycle(5, # epoch\n",
    "                    lr_max=1e-2, # learning rate\n",
    "                    wd=0.1,\n",
    "                    cbs=[WandbCallback(),\n",
    "                        SaveModelCallback()])"
   ]
  },
  {
   "cell_type": "code",
   "execution_count": null,
   "id": "9c5bd1e3",
   "metadata": {},
   "outputs": [],
   "source": [
    "learn.model"
   ]
  },
  {
   "cell_type": "markdown",
   "id": "0a261f7a",
   "metadata": {},
   "source": [
    "## Prediction"
   ]
  },
  {
   "attachments": {
    "image.png": {
     "image/png": "[encoded data removed]"
    }
   },
   "cell_type": "markdown",
   "id": "0aaeeb99",
   "metadata": {},
   "source": [
    "We use top k accuracy method:\n",
    "assume top 3\n",
    "\n",
    "\n",
    "![image.png](attachment:image.png)\n",
    "\n",
    "\n",
    "top 3 accuraccy -> sum of point / n = 0.5 "
   ]
  },
  {
   "cell_type": "code",
   "execution_count": null,
   "id": "c26d4f7f",
   "metadata": {},
   "outputs": [],
   "source": [
    "check = train_valid_df.drop(['is_valid','item_name'], axis = 1)\n",
    "data = df\n",
    "check"
   ]
  },
  {
   "cell_type": "code",
   "execution_count": null,
   "id": "df6f05a1",
   "metadata": {},
   "outputs": [],
   "source": [
    "all_ans = pd.DataFrame(columns = {'user_id','item_id','playtime_scaled','pred'})\n",
    "\n",
    "for j in range(test_df.shape[0]):\n",
    "    user = train_df['user_id'].unique()[j]\n",
    "\n",
    "    # Create dataframe contains games of each users never play\n",
    "    df = pd.DataFrame()\n",
    "    df['user_id'] = user\n",
    "    # df คือ ข้อมูลทั้งหมด , check คือ ข้อมูลของ train และ valid\n",
    "    df['item_id'] = np.setdiff1d(data['item_id'].unique(), check[check['user_id'] == user]['item_id'].unique())\n",
    "    df['user_id'] = user\n",
    "    df['playtime_scaled'] = np.NaN\n",
    "    \n",
    "    # Predict time for each game\n",
    "    test_dls = dls.test_dl(df)\n",
    "    test_pred, test_target = learn.get_preds(dl=test_dls)\n",
    "    \n",
    "    # Keep all top 10 most playtime for each users\n",
    "    df['pred'] = test_pred\n",
    "    df = df.sort_values(by='pred',ascending = False).drop(df.iloc[10:].index, axis =0)\n",
    "    all_ans = pd.concat([all_ans, df])\n",
    "    print(j)"
   ]
  },
  {
   "cell_type": "code",
   "execution_count": null,
   "id": "57f25194",
   "metadata": {},
   "outputs": [],
   "source": [
    "# Top 10 most users play \n",
    "user_sum = data.groupby(['item_id'])['user_id'].nunique().sort_values(ascending = False)[:10].index\n",
    "user_sum"
   ]
  },
  {
   "cell_type": "code",
   "execution_count": null,
   "id": "37d55b4f",
   "metadata": {},
   "outputs": [],
   "source": [
    "# Top 10 mean playtime\n",
    "playtime_mean = data.groupby(['item_id'])['playtime_scaled'].mean().sort_values(ascending = False)[0:10].index\n",
    "playtime_mean"
   ]
  },
  {
   "cell_type": "code",
   "execution_count": null,
   "id": "10262664",
   "metadata": {},
   "outputs": [],
   "source": [
    "# Top 10 playtime\n",
    "playtime_sum = data.groupby(['item_id'])['playtime_scaled'].sum().sort_values(ascending = False)[:10].index\n",
    "playtime_sum"
   ]
  },
  {
   "cell_type": "code",
   "execution_count": null,
   "id": "9b2ee9f9",
   "metadata": {},
   "outputs": [],
   "source": [
    "test = test_df\n",
    "top10 = [0,0,0,0] # model, user, mean, sum"
   ]
  },
  {
   "cell_type": "code",
   "execution_count": null,
   "id": "d999f325",
   "metadata": {},
   "outputs": [],
   "source": [
    "for i in range(test.shape[0]):\n",
    "    user = test['user_id'].unique()[i]\n",
    "    ans = test[test['user_id'] == user]['item_id'].values[0]\n",
    "    \n",
    "    if ans in ans_key[ans_key['user_id'] == user]['item_id'].values:\n",
    "        top10[0] += 1\n",
    "    if ans in user_sum:\n",
    "        top10[1] += 1\n",
    "    if ans in playtime_mean:\n",
    "        top10[2] += 1\n",
    "    if ans in playtime_sum:\n",
    "        top10[3] += 1\n",
    "        \n",
    "    print(i, \" \", end='')"
   ]
  },
  {
   "cell_type": "code",
   "execution_count": null,
   "id": "6e06d5a9",
   "metadata": {},
   "outputs": [],
   "source": [
    "top10[0] /= test.shape[0]\n",
    "top10[1] /= test.shape[0]\n",
    "top10[2] /= test.shape[0]\n",
    "top10[3] /= test.shape[0]\n",
    "top10"
   ]
  },
  {
   "cell_type": "code",
   "execution_count": null,
   "id": "c7eb685d",
   "metadata": {},
   "outputs": [],
   "source": [
    "result = pd.DataFrame()\n",
    "result['Model'] = ['Neural Network', 'Most users', 'Mean of playtime', 'Sum of playtime']\n",
    "result['Top 10 accuracy'] = top10\n",
    "result"
   ]
  },
  {
   "cell_type": "markdown",
   "id": "c3dbbf8a",
   "metadata": {},
   "source": [
    "### Test with top 10 -  20 of Most user"
   ]
  },
  {
   "cell_type": "markdown",
   "id": "64fe7463",
   "metadata": {},
   "source": [
    "From top10 user is the most accuracy. It means top10 users is so popular. So I want to watch if we cut of top10 users from test set, and use top10 users with new test set. How will it be.  "
   ]
  },
  {
   "cell_type": "code",
   "execution_count": null,
   "id": "c39a41ff",
   "metadata": {},
   "outputs": [],
   "source": [
    "# take out top 10 of most user and playtime\n",
    "top10user = data.groupby(['item_id'])['user_id'].nunique().sort_values(ascending = False)[:10].index\n",
    "for i in range(10):\n",
    "    test = test[test['item_id'] != top10user[i]]"
   ]
  },
  {
   "cell_type": "code",
   "execution_count": null,
   "id": "b141ee9d",
   "metadata": {},
   "outputs": [],
   "source": [
    "# Top 10 - 20 most users play \n",
    "user_sum = data.groupby(['item_id'])['user_id'].nunique().sort_values(ascending = False)[10:20].index\n",
    "user_sum"
   ]
  },
  {
   "cell_type": "code",
   "execution_count": null,
   "id": "fe51c2cd",
   "metadata": {},
   "outputs": [],
   "source": [
    "top20 = [0,0,0,0] # model, user, mean, sum"
   ]
  },
  {
   "cell_type": "code",
   "execution_count": null,
   "id": "0ce48c4e",
   "metadata": {},
   "outputs": [],
   "source": [
    "for i in range(test.shape[0]):\n",
    "    user = test['user_id'].unique()[i]\n",
    "    ans = test[test['user_id'] == user]['item_id'].values[0]\n",
    "    \n",
    "    if ans in ans_key[ans_key['user_id'] == user]['item_id'].values:\n",
    "        top20[0] += 1\n",
    "    if ans in user_sum:\n",
    "        top20[1] += 1\n",
    "    if ans in playtime_mean:\n",
    "        top20[2] += 1\n",
    "    if ans in playtime_sum:\n",
    "        top20[3] += 1\n",
    "        \n",
    "    print(i, \" \", end='')"
   ]
  },
  {
   "cell_type": "code",
   "execution_count": null,
   "id": "a688deb2",
   "metadata": {},
   "outputs": [],
   "source": [
    "top20[0] /= test.shape[0]\n",
    "top20[1] /= test.shape[0]\n",
    "top20[2] /= test.shape[0]\n",
    "top20[3] /= test.shape[0]\n",
    "top20"
   ]
  },
  {
   "cell_type": "code",
   "execution_count": null,
   "id": "e63747c6",
   "metadata": {},
   "outputs": [],
   "source": [
    "result = pd.DataFrame()\n",
    "result['Model'] = ['Neural Network', 'Most users', 'Mean of playtime', 'Sum of playtime']\n",
    "result['Top 10 accuracy'] = top20\n",
    "result"
   ]
  },
  {
   "attachments": {
    "image.png": {
     "image/png": "[encoded data removed]"
    }
   },
   "cell_type": "markdown",
   "id": "8465f6f7",
   "metadata": {},
   "source": [
    "![image.png](attachment:image.png)"
   ]
  },
  {
   "cell_type": "markdown",
   "id": "86b3353c",
   "metadata": {},
   "source": [
    "## Find Similiar"
   ]
  },
  {
   "cell_type": "code",
   "execution_count": null,
   "id": "6673b7e4",
   "metadata": {},
   "outputs": [],
   "source": [
    "# Get embedding\n",
    "user_embeds = learn.model.embeds[0].weight\n",
    "item_embeds = learn.model.embeds[1].weight\n",
    "user_ids = learn.dls.train_ds.classes['user_id']\n",
    "item_ids = learn.dls.train_ds.classes['item_id']"
   ]
  },
  {
   "cell_type": "code",
   "execution_count": null,
   "id": "ecaed47b",
   "metadata": {},
   "outputs": [],
   "source": [
    "def find_similar_game(game_name):\n",
    "    print(f\"Game name: {game_name}\")\n",
    "    game_id =  data[data['item_name'] == game_name]['item_id'].unique()[0]\n",
    "    arr_idx = item_ids.o2i[game_id]\n",
    "    similar = nn.CosineSimilarity(dim=1)(item_embeds, item_embeds[arr_idx][None])\n",
    "    sim_arr_idx = similar.argsort(descending=True)\n",
    "    most_sim_idx = sim_arr_idx[1:6]\n",
    "    least_sim_idx = sim_arr_idx[-5:]\n",
    "    sim_ani_id = np.concatenate((item_ids[most_sim_idx], item_ids[least_sim_idx]))\n",
    "    \n",
    "    sim_df = pd.DataFrame()\n",
    "    for id in sim_ani_id:\n",
    "        sim_df = sim_df.append([data[data['item_id'] == id]['item_name'].unique()[0]])\n",
    "    sim_df.columns = ['Name']\n",
    "    sim_df['similar'] = np.concatenate((similar[most_sim_idx].cpu().detach().numpy(), similar[least_sim_idx].cpu().detach().numpy()))\n",
    "    return sim_df"
   ]
  },
  {
   "cell_type": "code",
   "execution_count": null,
   "id": "a7c16f26",
   "metadata": {},
   "outputs": [],
   "source": [
    "name = df['item_name'].nunique()\n",
    "interact(find_similar_game, game_name=name)"
   ]
  }
 ],
 "metadata": {
  "kernelspec": {
   "display_name": "Python 3 (ipykernel)",
   "language": "python",
   "name": "python3"
  },
  "language_info": {
   "codemirror_mode": {
    "name": "ipython",
    "version": 3
   },
   "file_extension": ".py",
   "mimetype": "text/x-python",
   "name": "python",
   "nbconvert_exporter": "python",
   "pygments_lexer": "ipython3",
   "version": "3.9.7"
  }
 },
 "nbformat": 4,
 "nbformat_minor": 5
}
